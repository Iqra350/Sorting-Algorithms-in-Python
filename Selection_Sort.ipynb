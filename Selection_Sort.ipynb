{
  "nbformat": 4,
  "nbformat_minor": 0,
  "metadata": {
    "colab": {
      "name": "Selection Sort.ipynb",
      "provenance": []
    },
    "kernelspec": {
      "name": "python3",
      "display_name": "Python 3"
    },
    "language_info": {
      "name": "python"
    }
  },
  "cells": [
    {
      "cell_type": "code",
      "execution_count": 1,
      "metadata": {
        "id": "pl-c3vA8JiwC"
      },
      "outputs": [],
      "source": [
        "#Import library\n",
        "import numpy as np"
      ]
    },
    {
      "cell_type": "code",
      "source": [
        "#Take input array to sort\n",
        "arr = np.array([2, 12, 54, 21, 1, 3])\n",
        "arr"
      ],
      "metadata": {
        "colab": {
          "base_uri": "https://localhost:8080/"
        },
        "id": "sHLn8lueHyPI",
        "outputId": "53b08739-e9ca-4f32-cd96-373711d2a842"
      },
      "execution_count": 2,
      "outputs": [
        {
          "output_type": "execute_result",
          "data": {
            "text/plain": [
              "array([ 2, 12, 54, 21,  1,  3])"
            ]
          },
          "metadata": {},
          "execution_count": 2
        }
      ]
    },
    {
      "cell_type": "markdown",
      "source": [
        "###Simple sorting function for sorting the array"
      ],
      "metadata": {
        "id": "cUW-s-6tLe9j"
      }
    },
    {
      "cell_type": "code",
      "source": [
        "#Function to sort the array\n",
        "def SelectionSort(array):\n",
        "  \n",
        "  for i in range(len(array)):\n",
        "    min_idx = i\n",
        "    for j in range(i + 1, len(array)):\n",
        "      if array[j] < array[min_idx]:\n",
        "        min_idx = j\n",
        "       \n",
        "    array[i], array[min_idx] = array[min_idx], array[i]\n",
        "\n",
        "  return array\n",
        "#Function call for sorted array\n",
        "Sorted_array = SelectionSort(arr)\n",
        "print('Sorted array:', Sorted_array)"
      ],
      "metadata": {
        "colab": {
          "base_uri": "https://localhost:8080/"
        },
        "id": "CqX-ovaOH7Hg",
        "outputId": "b042641a-d39e-458d-a748-07a9c8696521"
      },
      "execution_count": 5,
      "outputs": [
        {
          "output_type": "stream",
          "name": "stdout",
          "text": [
            "Sorted array: [ 1  2  3 12 21 54]\n"
          ]
        }
      ]
    },
    {
      "cell_type": "markdown",
      "source": [
        "###Using python class for sorting"
      ],
      "metadata": {
        "id": "79kkn8crLaC5"
      }
    },
    {
      "cell_type": "code",
      "source": [
        "#Define the python class for selection sort\n",
        "class SelectionSort():\n",
        "  def __init__(self, array):\n",
        "    self.array = array\n",
        "  #Function for sorting the array\n",
        "  def SortingFunc(self):\n",
        "    for i in range(len(self.array)):\n",
        "      min_idx = i\n",
        "      for j in range(i+1, len(self.array)):\n",
        "        if self.array[j] < self.array[min_idx]:\n",
        "          min_idx = j\n",
        "      #Swap the element with index of lowest value number\n",
        "      self.array[i], self.array[min_idx] = self.array[min_idx], self.array[i]\n",
        "    return self.array\n",
        "    #Repeat the process\n",
        "\n",
        "#Call the class and function\n",
        "s= SelectionSort(arr)\n",
        "Sorted_array = s.SortingFunc()\n",
        "print('Sorted array: ', Sorted_array)"
      ],
      "metadata": {
        "colab": {
          "base_uri": "https://localhost:8080/"
        },
        "id": "X3pzhzp4JJG_",
        "outputId": "83b0dbff-1dea-4904-d548-af0a47f02422"
      },
      "execution_count": 9,
      "outputs": [
        {
          "output_type": "stream",
          "name": "stdout",
          "text": [
            "Sorted array:  [ 1  2  3 12 21 54]\n"
          ]
        }
      ]
    },
    {
      "cell_type": "code",
      "source": [
        ""
      ],
      "metadata": {
        "id": "2WfXgztDLCyg"
      },
      "execution_count": null,
      "outputs": []
    }
  ]
}