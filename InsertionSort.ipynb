{
  "nbformat": 4,
  "nbformat_minor": 0,
  "metadata": {
    "colab": {
      "name": "InsertionSort.ipynb",
      "provenance": []
    },
    "kernelspec": {
      "name": "python3",
      "display_name": "Python 3"
    },
    "language_info": {
      "name": "python"
    }
  },
  "cells": [
    {
      "cell_type": "code",
      "execution_count": 1,
      "metadata": {
        "id": "uABF2DxMLjy3"
      },
      "outputs": [],
      "source": [
        "#import the library\n",
        "import numpy as np"
      ]
    },
    {
      "cell_type": "code",
      "source": [
        "#Take input array\n",
        "arr = np.array([5, 3, 6, 2, 7, 1])"
      ],
      "metadata": {
        "id": "0FXU8eF4OyeK"
      },
      "execution_count": 2,
      "outputs": []
    },
    {
      "cell_type": "markdown",
      "source": [
        "###Simple sorting function for sorting the array"
      ],
      "metadata": {
        "id": "ZWIwX042SS2a"
      }
    },
    {
      "cell_type": "code",
      "source": [
        "#Define the function for insertion sort\n",
        "def InsertionSort(array):\n",
        "  for i in range(len(array)):\n",
        "    current = array[i]\n",
        "    j = i - 1\n",
        "    while j >= 0 and current < array[j]:\n",
        "      array[j + 1] = array[j]\n",
        "      j -= 1\n",
        "    array[j + 1] = current\n",
        "  return array"
      ],
      "metadata": {
        "id": "YhBEEzTfO6aS"
      },
      "execution_count": 3,
      "outputs": []
    },
    {
      "cell_type": "code",
      "source": [
        "InsertionSort(arr)"
      ],
      "metadata": {
        "colab": {
          "base_uri": "https://localhost:8080/"
        },
        "id": "IDmP-pPjQqE8",
        "outputId": "01d8b446-97f9-4e72-ebdf-ef73da0aa5dc"
      },
      "execution_count": 4,
      "outputs": [
        {
          "output_type": "execute_result",
          "data": {
            "text/plain": [
              "array([1, 2, 3, 5, 6, 7])"
            ]
          },
          "metadata": {},
          "execution_count": 4
        }
      ]
    },
    {
      "cell_type": "code",
      "source": [
        "#Define class for sorting\n",
        "class InsertionSort():\n",
        "  def __init__(self, array):\n",
        "    self.array = array\n",
        "  #Define the function for insertion sort\n",
        "  def InSort(self):\n",
        "    for i in range(len(self.array)):\n",
        "      current = self.array[i]\n",
        "      j = i - 1\n",
        "      while j >= 0 and current < self.array[j]:\n",
        "        self.array[j + 1] = self.array[j]\n",
        "        j -= 1\n",
        "      self.array[j + 1] = current\n",
        "    return self.array"
      ],
      "metadata": {
        "id": "sP_-OOPPQthC"
      },
      "execution_count": 5,
      "outputs": []
    },
    {
      "cell_type": "markdown",
      "source": [
        "###Using python class for sorting"
      ],
      "metadata": {
        "id": "dqRrh8RZSW9y"
      }
    },
    {
      "cell_type": "code",
      "source": [
        "s = InsertionSort(arr)\n",
        "Sorted_array = s.InSort()\n",
        "print('Sorted array: ', Sorted_array)"
      ],
      "metadata": {
        "colab": {
          "base_uri": "https://localhost:8080/"
        },
        "id": "IdRnYSl-R_Ut",
        "outputId": "54139800-addc-4ddb-c528-78f02daf88f4"
      },
      "execution_count": 6,
      "outputs": [
        {
          "output_type": "stream",
          "name": "stdout",
          "text": [
            "Sorted array:  [1 2 3 5 6 7]\n"
          ]
        }
      ]
    },
    {
      "cell_type": "code",
      "source": [
        ""
      ],
      "metadata": {
        "id": "_DJlVSV5SNeE"
      },
      "execution_count": null,
      "outputs": []
    }
  ]
}