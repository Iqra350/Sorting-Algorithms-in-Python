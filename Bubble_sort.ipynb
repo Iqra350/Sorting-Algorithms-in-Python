{
  "nbformat": 4,
  "nbformat_minor": 0,
  "metadata": {
    "colab": {
      "name": "Bubble sort.ipynb",
      "provenance": [],
      "collapsed_sections": []
    },
    "kernelspec": {
      "name": "python3",
      "display_name": "Python 3"
    },
    "language_info": {
      "name": "python"
    }
  },
  "cells": [
    {
      "cell_type": "code",
      "execution_count": 1,
      "metadata": {
        "id": "laR1qTdsVyce"
      },
      "outputs": [],
      "source": [
        "#Import the numpy library\n",
        "import numpy as np"
      ]
    },
    {
      "cell_type": "code",
      "source": [
        "#Take input array as numpy array\n",
        "arr = np.array([1, 4 ,51, 67, 2, 45, 6])"
      ],
      "metadata": {
        "id": "ZRU4ruwxV65K"
      },
      "execution_count": 2,
      "outputs": []
    },
    {
      "cell_type": "markdown",
      "source": [
        "###Simple sorting function for sorting the array"
      ],
      "metadata": {
        "id": "Vgccu748H0XX"
      }
    },
    {
      "cell_type": "code",
      "source": [
        "#Define the function for sorting the array\n",
        "def bubbleSort(array):\n",
        "  for i in range(len(array) - 1):\n",
        "    for j in range(0, len(array) - i - 1):\n",
        "      if array[j] > array[j + 1]:\n",
        "        array[j], array[j + 1] = array[j + 1], array[j]\n",
        "        \n",
        "  return array\n",
        "\n",
        "a = bubbleSort(arr) \n",
        "print(a)"
      ],
      "metadata": {
        "colab": {
          "base_uri": "https://localhost:8080/"
        },
        "id": "-W_YJ0UuYxRz",
        "outputId": "c6f2fb28-c4e4-49e5-ed3c-65b57ffb489b"
      },
      "execution_count": 37,
      "outputs": [
        {
          "output_type": "stream",
          "name": "stdout",
          "text": [
            "[ 1  2  4  6 45 51 67]\n"
          ]
        }
      ]
    },
    {
      "cell_type": "markdown",
      "source": [
        "###Using python class for sorting"
      ],
      "metadata": {
        "id": "IKkxDSY0H6Rp"
      }
    },
    {
      "cell_type": "code",
      "source": [
        "class BubbleSort():\n",
        "  def __init__(self, array):\n",
        "    self.array = array\n",
        "\n",
        "  def bubblesort(self):\n",
        "    for i in range(len(self.array) - 1):\n",
        "      for j in range(0, len(self.array) - i - 1):\n",
        "        if self.array[j] > self.array[j + 1]:\n",
        "          self.array[j], self.array[j + 1] = self.array[j + 1], self.array[j]\n",
        "        \n",
        "    return self.array"
      ],
      "metadata": {
        "id": "mFXGYRWlXkk-"
      },
      "execution_count": 39,
      "outputs": []
    },
    {
      "cell_type": "code",
      "source": [
        "b  = BubbleSort(arr)"
      ],
      "metadata": {
        "id": "Hz1Z6fDSIqDL"
      },
      "execution_count": 40,
      "outputs": []
    },
    {
      "cell_type": "code",
      "source": [
        "b.bubblesort()"
      ],
      "metadata": {
        "colab": {
          "base_uri": "https://localhost:8080/"
        },
        "id": "qAdstkxUItNt",
        "outputId": "280913bc-0eba-432f-e68a-da7942a82627"
      },
      "execution_count": 41,
      "outputs": [
        {
          "output_type": "execute_result",
          "data": {
            "text/plain": [
              "array([ 1,  2,  4,  6, 45, 51, 67])"
            ]
          },
          "metadata": {},
          "execution_count": 41
        }
      ]
    },
    {
      "cell_type": "code",
      "source": [
        ""
      ],
      "metadata": {
        "id": "6OXFRcUtIzDX"
      },
      "execution_count": null,
      "outputs": []
    }
  ]
}